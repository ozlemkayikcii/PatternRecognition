{
  "nbformat": 4,
  "nbformat_minor": 0,
  "metadata": {
    "colab": {
      "provenance": [],
      "gpuType": "T4"
    },
    "kernelspec": {
      "name": "python3",
      "display_name": "Python 3"
    },
    "language_info": {
      "name": "python"
    },
    "accelerator": "GPU"
  },
  "cells": [
    {
      "cell_type": "code",
      "execution_count": null,
      "metadata": {
        "id": "A8S8GGyRLm42"
      },
      "outputs": [],
      "source": [
        "import os\n",
        "import numpy as np\n",
        "import cv2\n",
        "from sklearn.svm import SVC\n",
        "from sklearn.metrics import confusion_matrix, accuracy_score\n",
        "from sklearn.feature_selection import SequentialFeatureSelector as SFS\n",
        "from sklearn.decomposition import PCA\n",
        "from joblib import Parallel, delayed\n",
        "import matplotlib.pyplot as plt\n"
      ]
    },
    {
      "cell_type": "code",
      "source": [
        "def load_images_from_folder(folder):\n",
        "    images = []\n",
        "    labels = []\n",
        "    class_names = sorted(os.listdir(folder))\n",
        "    for label, class_name in enumerate(class_names):\n",
        "        class_folder = os.path.join(folder, class_name)\n",
        "        for filename in os.listdir(class_folder):\n",
        "            img_path = os.path.join(class_folder, filename)\n",
        "            img = cv2.imread(img_path)\n",
        "            if img is not None:\n",
        "                images.append(img)\n",
        "                labels.append(label)\n",
        "    return images, labels\n",
        "\n",
        "train_folder = '/content/drive/My Drive/HWData/train'\n",
        "test_folder = '/content/drive/My Drive/HWData/test'\n",
        "\n",
        "\n",
        "train_images, train_labels = load_images_from_folder(train_folder)\n",
        "test_images, test_labels = load_images_from_folder(test_folder)\n",
        "\n",
        "def extract_features(images, max_descriptors=128):\n",
        "    sift = cv2.SIFT_create()\n",
        "    features = []\n",
        "    for img in images:\n",
        "        img_gray = cv2.cvtColor(img, cv2.COLOR_BGR2GRAY)\n",
        "        keypoints, descriptors = sift.detectAndCompute(img_gray, None)\n",
        "        if descriptors is not None:\n",
        "            descriptors = descriptors[:max_descriptors]  # Use only the first `max_descriptors`\n",
        "            if descriptors.shape[0] < max_descriptors:\n",
        "                # If less than `max_descriptors`, pad with zeros\n",
        "                descriptors = np.pad(descriptors, ((0, max_descriptors - descriptors.shape[0]), (0, 0)), 'constant')\n",
        "        else:\n",
        "            # Handle case with no descriptors\n",
        "            descriptors = np.zeros((max_descriptors, sift.descriptorSize()))\n",
        "        features.append(descriptors.flatten())\n",
        "    return np.array(features)\n",
        "\n",
        "train_features = extract_features(train_images)\n",
        "test_features = extract_features(test_images)\n"
      ],
      "metadata": {
        "id": "viKGrYFPLqVd"
      },
      "execution_count": null,
      "outputs": []
    },
    {
      "cell_type": "code",
      "source": [
        "pca = PCA(n_components=100)  # Reduce dimensions to 100 (or another number you find suitable)\n",
        "train_features_pca = pca.fit_transform(train_features)\n",
        "test_features_pca = pca.transform(test_features)\n"
      ],
      "metadata": {
        "id": "QwXJjrURLuLH"
      },
      "execution_count": null,
      "outputs": []
    },
    {
      "cell_type": "code",
      "source": [
        "sfs = SFS(SVC(kernel='linear'),\n",
        "          n_features_to_select=50,  # Adjust this number based on the reduced dimensions\n",
        "          direction='forward',\n",
        "          n_jobs=-1)  # Utilize all available cores\n",
        "train_features_reduced = sfs.fit_transform(train_features_pca, train_labels)\n",
        "test_features_reduced = sfs.transform(test_features_pca)\n"
      ],
      "metadata": {
        "id": "QQo7YuT8Lxfh"
      },
      "execution_count": null,
      "outputs": []
    },
    {
      "cell_type": "code",
      "source": [
        "# Train SVM\n",
        "svm = SVC(kernel='linear')\n",
        "svm.fit(train_features_reduced, train_labels)\n",
        "\n",
        "# Predict on test data\n",
        "test_predictions = svm.predict(test_features_reduced)\n",
        "\n",
        "# Evaluate the model\n",
        "conf_matrix = confusion_matrix(test_labels, test_predictions)\n",
        "accuracy = accuracy_score(test_labels, test_predictions)\n",
        "\n",
        "print(\"Confusion Matrix:\\n\", conf_matrix)\n",
        "print(\"Accuracy:\", accuracy)\n"
      ],
      "metadata": {
        "colab": {
          "base_uri": "https://localhost:8080/"
        },
        "id": "qY0lP820L27p",
        "outputId": "19681475-9a5a-4e64-d554-5156d647452c"
      },
      "execution_count": null,
      "outputs": [
        {
          "output_type": "stream",
          "name": "stdout",
          "text": [
            "Confusion Matrix:\n",
            "[43  0  0  0  0  0  0  0  0  0  3  0  0  0  0]\n",
            "[ 1  3  0  0  0  0  0  0  0  0  0  0  0  0  0]\n",
            "[ 0  0 13  0  0  0  0  0  0  0  0  0  0  0  0]\n",
            "[ 2  0  0  0  0  0  0  0  0  0  2  0  0  0  0]\n",
            "[ 2  0  0  0  0  0  0  0  0  0  0  0  2  0  0]\n",
            "[ 1  0  0  0  0  2  0  0  0  0  1  0  0  0  0]\n",
            "[ 1  0  0  0  0  0  0  3  0  0  0  0  0  0  0]\n",
            "[ 4  0  0  0  0  0  0  0  0  0  0  0  0  0  0]\n",
            "[ 2  0  0  0  0  0  0  0  0  0  0  0  0  0  0]\n",
            "[ 3  0  0  0  0  0  0  0  0  8  0  0  0  0  0]\n",
            "[ 2  0  0  0  0  0  0  0  0  0  6  0  0  0  0]\n",
            "[ 2  0  0  0  0  0  0  0  0  0  0  1  0  0  0]\n",
            "[ 2  0  0  0  0  0  0  0  0  0  0  0  6  0  0]\n",
            "[ 2  0  0  0  0  0  0  0  0  0  0  0  0  6  0]\n",
            "[ 2  0  0  0  0  0  0  0  0  0  0  0  0  0  2]\n",
            "Accuracy: 0.7277853355945519\n"
          ]
        }
      ]
    }
  ]
}